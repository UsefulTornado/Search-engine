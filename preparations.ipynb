{
 "cells": [
  {
   "cell_type": "markdown",
   "metadata": {},
   "source": [
    "# 0. Imports"
   ]
  },
  {
   "cell_type": "code",
   "execution_count": 217,
   "metadata": {},
   "outputs": [],
   "source": [
    "import pandas as pd\n",
    "import numpy as np\n",
    "import pickle\n",
    "\n",
    "from collections import defaultdict\n",
    "\n",
    "from search import Document\n",
    "from lemmatization import lemmatize_column\n",
    "from lemmatization import lemmatize_sentence\n",
    "\n",
    "\"\"\" Some libraries used in imported functions: \"\"\"\n",
    "\n",
    "    # import re\n",
    "\n",
    "    # from tqdm import tqdm\n",
    "    # from joblib import Parallel, delayed\n",
    "\n",
    "    # import nltk\n",
    "\n",
    "    # from nltk import pos_tag\n",
    "    # from nltk.corpus import stopwords, wordnet\n",
    "    # from nltk.stem import WordNetLemmatizer\n",
    "\n",
    "\n",
    "\"\"\" You may also need: \"\"\"\n",
    "\n",
    "    # nltk.download('averaged_perceptron_tagger')\n",
    "    # nltk.download('wordnet')\n",
    "    # nltk.download('stopwords')\n",
    "    # nltk.download('omw-1.4')"
   ]
  },
  {
   "cell_type": "markdown",
   "metadata": {},
   "source": [
    "# 1. Data reading"
   ]
  },
  {
   "cell_type": "markdown",
   "metadata": {},
   "source": [
    "Let's read our datasets and have a look on them. There are 2 ones so we need to take some steps to join them."
   ]
  },
  {
   "cell_type": "code",
   "execution_count": 152,
   "metadata": {},
   "outputs": [
    {
     "data": {
      "text/html": [
       "<div>\n",
       "<style scoped>\n",
       "    .dataframe tbody tr th:only-of-type {\n",
       "        vertical-align: middle;\n",
       "    }\n",
       "\n",
       "    .dataframe tbody tr th {\n",
       "        vertical-align: top;\n",
       "    }\n",
       "\n",
       "    .dataframe thead th {\n",
       "        text-align: right;\n",
       "    }\n",
       "</style>\n",
       "<table border=\"1\" class=\"dataframe\">\n",
       "  <thead>\n",
       "    <tr style=\"text-align: right;\">\n",
       "      <th></th>\n",
       "      <th>quote</th>\n",
       "      <th>author</th>\n",
       "      <th>category</th>\n",
       "    </tr>\n",
       "  </thead>\n",
       "  <tbody>\n",
       "    <tr>\n",
       "      <th>0</th>\n",
       "      <td>I'm selfish, impatient and a little insecure. ...</td>\n",
       "      <td>Marilyn Monroe</td>\n",
       "      <td>attributed-no-source, best, life, love, mistak...</td>\n",
       "    </tr>\n",
       "    <tr>\n",
       "      <th>1</th>\n",
       "      <td>You've gotta dance like there's nobody watchin...</td>\n",
       "      <td>William W. Purkey</td>\n",
       "      <td>dance, heaven, hurt, inspirational, life, love...</td>\n",
       "    </tr>\n",
       "    <tr>\n",
       "      <th>2</th>\n",
       "      <td>You know you're in love when you can't fall as...</td>\n",
       "      <td>Dr. Seuss</td>\n",
       "      <td>attributed-no-source, dreams, love, reality, s...</td>\n",
       "    </tr>\n",
       "    <tr>\n",
       "      <th>3</th>\n",
       "      <td>A friend is someone who knows all about you an...</td>\n",
       "      <td>Elbert Hubbard</td>\n",
       "      <td>friend, friendship, knowledge, love</td>\n",
       "    </tr>\n",
       "    <tr>\n",
       "      <th>4</th>\n",
       "      <td>Darkness cannot drive out darkness: only light...</td>\n",
       "      <td>Martin Luther King Jr., A Testament of Hope: T...</td>\n",
       "      <td>darkness, drive-out, hate, inspirational, ligh...</td>\n",
       "    </tr>\n",
       "    <tr>\n",
       "      <th>...</th>\n",
       "      <td>...</td>\n",
       "      <td>...</td>\n",
       "      <td>...</td>\n",
       "    </tr>\n",
       "    <tr>\n",
       "      <th>499704</th>\n",
       "      <td>I do believe the most important thing I can do...</td>\n",
       "      <td>John C. Stennis</td>\n",
       "      <td>Past, Believe, Help</td>\n",
       "    </tr>\n",
       "    <tr>\n",
       "      <th>499705</th>\n",
       "      <td>I'd say I'm a bit antimadridista although I do...</td>\n",
       "      <td>Isco</td>\n",
       "      <td>Team, Humility, Know</td>\n",
       "    </tr>\n",
       "    <tr>\n",
       "      <th>499706</th>\n",
       "      <td>The future is now.</td>\n",
       "      <td>Nam June Paik</td>\n",
       "      <td>Now</td>\n",
       "    </tr>\n",
       "    <tr>\n",
       "      <th>499707</th>\n",
       "      <td>In all my life and in the future, I will alway...</td>\n",
       "      <td>Norodom Sihamoni</td>\n",
       "      <td>Life, My Life, Servant</td>\n",
       "    </tr>\n",
       "    <tr>\n",
       "      <th>499708</th>\n",
       "      <td>The future is as bright as the promises of God.</td>\n",
       "      <td>William Carey</td>\n",
       "      <td>God, Promises, Bright</td>\n",
       "    </tr>\n",
       "  </tbody>\n",
       "</table>\n",
       "<p>499709 rows × 3 columns</p>\n",
       "</div>"
      ],
      "text/plain": [
       "                                                    quote  \\\n",
       "0       I'm selfish, impatient and a little insecure. ...   \n",
       "1       You've gotta dance like there's nobody watchin...   \n",
       "2       You know you're in love when you can't fall as...   \n",
       "3       A friend is someone who knows all about you an...   \n",
       "4       Darkness cannot drive out darkness: only light...   \n",
       "...                                                   ...   \n",
       "499704  I do believe the most important thing I can do...   \n",
       "499705  I'd say I'm a bit antimadridista although I do...   \n",
       "499706                                 The future is now.   \n",
       "499707  In all my life and in the future, I will alway...   \n",
       "499708    The future is as bright as the promises of God.   \n",
       "\n",
       "                                                   author  \\\n",
       "0                                          Marilyn Monroe   \n",
       "1                                       William W. Purkey   \n",
       "2                                               Dr. Seuss   \n",
       "3                                          Elbert Hubbard   \n",
       "4       Martin Luther King Jr., A Testament of Hope: T...   \n",
       "...                                                   ...   \n",
       "499704                                    John C. Stennis   \n",
       "499705                                               Isco   \n",
       "499706                                      Nam June Paik   \n",
       "499707                                   Norodom Sihamoni   \n",
       "499708                                      William Carey   \n",
       "\n",
       "                                                 category  \n",
       "0       attributed-no-source, best, life, love, mistak...  \n",
       "1       dance, heaven, hurt, inspirational, life, love...  \n",
       "2       attributed-no-source, dreams, love, reality, s...  \n",
       "3                     friend, friendship, knowledge, love  \n",
       "4       darkness, drive-out, hate, inspirational, ligh...  \n",
       "...                                                   ...  \n",
       "499704                               Past, Believe, Help   \n",
       "499705                              Team, Humility, Know   \n",
       "499706                                               Now   \n",
       "499707                            Life, My Life, Servant   \n",
       "499708                             God, Promises, Bright   \n",
       "\n",
       "[499709 rows x 3 columns]"
      ]
     },
     "execution_count": 152,
     "metadata": {},
     "output_type": "execute_result"
    }
   ],
   "source": [
    "quotes1 = pd.read_csv('quotes1.csv')\n",
    "quotes1"
   ]
  },
  {
   "cell_type": "code",
   "execution_count": 153,
   "metadata": {},
   "outputs": [
    {
     "data": {
      "text/html": [
       "<div>\n",
       "<style scoped>\n",
       "    .dataframe tbody tr th:only-of-type {\n",
       "        vertical-align: middle;\n",
       "    }\n",
       "\n",
       "    .dataframe tbody tr th {\n",
       "        vertical-align: top;\n",
       "    }\n",
       "\n",
       "    .dataframe thead th {\n",
       "        text-align: right;\n",
       "    }\n",
       "</style>\n",
       "<table border=\"1\" class=\"dataframe\">\n",
       "  <thead>\n",
       "    <tr style=\"text-align: right;\">\n",
       "      <th></th>\n",
       "      <th>QUOTE</th>\n",
       "      <th>AUTHOR</th>\n",
       "      <th>TITLE</th>\n",
       "      <th>LIKES</th>\n",
       "      <th>TAGS</th>\n",
       "    </tr>\n",
       "  </thead>\n",
       "  <tbody>\n",
       "    <tr>\n",
       "      <th>0</th>\n",
       "      <td>“My life amounts to no more than one drop in a...</td>\n",
       "      <td>David Mitchell</td>\n",
       "      <td>Cloud Atlas</td>\n",
       "      <td>4589</td>\n",
       "      <td>None</td>\n",
       "    </tr>\n",
       "    <tr>\n",
       "      <th>1</th>\n",
       "      <td>“A half-read book is a half-finished love affa...</td>\n",
       "      <td>David Mitchell</td>\n",
       "      <td>Cloud Atlas</td>\n",
       "      <td>3181</td>\n",
       "      <td>['love', 'reading']</td>\n",
       "    </tr>\n",
       "    <tr>\n",
       "      <th>2</th>\n",
       "      <td>“Our lives are not our own. We are bound to ot...</td>\n",
       "      <td>David Mitchell</td>\n",
       "      <td>Cloud Atlas</td>\n",
       "      <td>2534</td>\n",
       "      <td>None</td>\n",
       "    </tr>\n",
       "    <tr>\n",
       "      <th>3</th>\n",
       "      <td>“Travel far enough, you meet yourself.”</td>\n",
       "      <td>David Mitchell</td>\n",
       "      <td>Cloud Atlas</td>\n",
       "      <td>1547</td>\n",
       "      <td>['travel']</td>\n",
       "    </tr>\n",
       "    <tr>\n",
       "      <th>4</th>\n",
       "      <td>“Books don't offer real escape, but they can s...</td>\n",
       "      <td>David Mitchell</td>\n",
       "      <td>Cloud Atlas</td>\n",
       "      <td>1490</td>\n",
       "      <td>['escape', 'reading']</td>\n",
       "    </tr>\n",
       "    <tr>\n",
       "      <th>...</th>\n",
       "      <td>...</td>\n",
       "      <td>...</td>\n",
       "      <td>...</td>\n",
       "      <td>...</td>\n",
       "      <td>...</td>\n",
       "    </tr>\n",
       "    <tr>\n",
       "      <th>348080</th>\n",
       "      <td>“It's going to look pretty good, then, isn't i...</td>\n",
       "      <td>Terry Pratchett</td>\n",
       "      <td>Sourcery</td>\n",
       "      <td>174</td>\n",
       "      <td>[]</td>\n",
       "    </tr>\n",
       "    <tr>\n",
       "      <th>348081</th>\n",
       "      <td>“It was sad music. But it waved its sadness li...</td>\n",
       "      <td>Terry Pratchett</td>\n",
       "      <td>Soul Music</td>\n",
       "      <td>173</td>\n",
       "      <td>['humor', 'music']</td>\n",
       "    </tr>\n",
       "    <tr>\n",
       "      <th>348082</th>\n",
       "      <td>“The merest accident of microgeography had mea...</td>\n",
       "      <td>Terry Pratchett</td>\n",
       "      <td>Small Gods</td>\n",
       "      <td>173</td>\n",
       "      <td>['religion']</td>\n",
       "    </tr>\n",
       "    <tr>\n",
       "      <th>348083</th>\n",
       "      <td>“Look, that's why there's rules, understand? S...</td>\n",
       "      <td>Terry Pratchett</td>\n",
       "      <td>Thief of Time</td>\n",
       "      <td>173</td>\n",
       "      <td>['rules']</td>\n",
       "    </tr>\n",
       "    <tr>\n",
       "      <th>348084</th>\n",
       "      <td>“There is a lot of folklore about equestrian s...</td>\n",
       "      <td>Terry Pratchett</td>\n",
       "      <td>I Shall Wear Midnight</td>\n",
       "      <td>172</td>\n",
       "      <td>['horses', 'humor', 'statues']</td>\n",
       "    </tr>\n",
       "  </tbody>\n",
       "</table>\n",
       "<p>348085 rows × 5 columns</p>\n",
       "</div>"
      ],
      "text/plain": [
       "                                                    QUOTE           AUTHOR  \\\n",
       "0       “My life amounts to no more than one drop in a...   David Mitchell   \n",
       "1       “A half-read book is a half-finished love affa...   David Mitchell   \n",
       "2       “Our lives are not our own. We are bound to ot...   David Mitchell   \n",
       "3                 “Travel far enough, you meet yourself.”   David Mitchell   \n",
       "4       “Books don't offer real escape, but they can s...   David Mitchell   \n",
       "...                                                   ...              ...   \n",
       "348080  “It's going to look pretty good, then, isn't i...  Terry Pratchett   \n",
       "348081  “It was sad music. But it waved its sadness li...  Terry Pratchett   \n",
       "348082  “The merest accident of microgeography had mea...  Terry Pratchett   \n",
       "348083  “Look, that's why there's rules, understand? S...  Terry Pratchett   \n",
       "348084  “There is a lot of folklore about equestrian s...  Terry Pratchett   \n",
       "\n",
       "                        TITLE  LIKES                            TAGS  \n",
       "0                 Cloud Atlas   4589                            None  \n",
       "1                 Cloud Atlas   3181             ['love', 'reading']  \n",
       "2                 Cloud Atlas   2534                            None  \n",
       "3                 Cloud Atlas   1547                      ['travel']  \n",
       "4                 Cloud Atlas   1490           ['escape', 'reading']  \n",
       "...                       ...    ...                             ...  \n",
       "348080               Sourcery    174                              []  \n",
       "348081             Soul Music    173              ['humor', 'music']  \n",
       "348082             Small Gods    173                    ['religion']  \n",
       "348083          Thief of Time    173                       ['rules']  \n",
       "348084  I Shall Wear Midnight    172  ['horses', 'humor', 'statues']  \n",
       "\n",
       "[348085 rows x 5 columns]"
      ]
     },
     "execution_count": 153,
     "metadata": {},
     "output_type": "execute_result"
    }
   ],
   "source": [
    "quotes2 = pd.read_csv('quotes2.csv')\n",
    "quotes2"
   ]
  },
  {
   "cell_type": "markdown",
   "metadata": {},
   "source": [
    "# 2. Data preprocessing"
   ]
  },
  {
   "cell_type": "markdown",
   "metadata": {},
   "source": [
    "It would be nice to have some quotes gradation correlated with something close to popularity, which could be used in ranking. Since our second dataset contains applicable column 'LIKE', we wish to make something similar one in the first dataset and then concatenate datasets."
   ]
  },
  {
   "cell_type": "markdown",
   "metadata": {},
   "source": [
    "## First dataset"
   ]
  },
  {
   "cell_type": "code",
   "execution_count": 154,
   "metadata": {},
   "outputs": [
    {
     "data": {
      "text/html": [
       "<div>\n",
       "<style scoped>\n",
       "    .dataframe tbody tr th:only-of-type {\n",
       "        vertical-align: middle;\n",
       "    }\n",
       "\n",
       "    .dataframe tbody tr th {\n",
       "        vertical-align: top;\n",
       "    }\n",
       "\n",
       "    .dataframe thead th {\n",
       "        text-align: right;\n",
       "    }\n",
       "</style>\n",
       "<table border=\"1\" class=\"dataframe\">\n",
       "  <thead>\n",
       "    <tr style=\"text-align: right;\">\n",
       "      <th></th>\n",
       "      <th>quote</th>\n",
       "      <th>author</th>\n",
       "      <th>category</th>\n",
       "    </tr>\n",
       "  </thead>\n",
       "  <tbody>\n",
       "    <tr>\n",
       "      <th>90801</th>\n",
       "      <td>How could anyone catch all of the beauty in th...</td>\n",
       "      <td>Cintra Wilson, Colors Insulting To Nature</td>\n",
       "      <td>beauty, life, misery</td>\n",
       "    </tr>\n",
       "    <tr>\n",
       "      <th>188014</th>\n",
       "      <td>Imagination can create crazy things in a place...</td>\n",
       "      <td>Mina Marial Nicoli, The Magic of Avalon Eyrelin</td>\n",
       "      <td>avalon-eyrelin, imagination, magic</td>\n",
       "    </tr>\n",
       "    <tr>\n",
       "      <th>46925</th>\n",
       "      <td>Knowledge and education are the key to this hu...</td>\n",
       "      <td>Christina Engela, Fearotica: An Anthology of E...</td>\n",
       "      <td>bonfire, education, fueled, hate, human-traged...</td>\n",
       "    </tr>\n",
       "    <tr>\n",
       "      <th>9480</th>\n",
       "      <td>Insanity does NOT run in my family. It strolls...</td>\n",
       "      <td>Darynda Jones, Fourth Grave Beneath My Feet</td>\n",
       "      <td>humor</td>\n",
       "    </tr>\n",
       "    <tr>\n",
       "      <th>315937</th>\n",
       "      <td>It is difficult to exaggerate the adverse infl...</td>\n",
       "      <td>Hypatia Bradlaugh Bonner</td>\n",
       "      <td>equality, happiness, influence, motherhood, op...</td>\n",
       "    </tr>\n",
       "  </tbody>\n",
       "</table>\n",
       "</div>"
      ],
      "text/plain": [
       "                                                    quote  \\\n",
       "90801   How could anyone catch all of the beauty in th...   \n",
       "188014  Imagination can create crazy things in a place...   \n",
       "46925   Knowledge and education are the key to this hu...   \n",
       "9480    Insanity does NOT run in my family. It strolls...   \n",
       "315937  It is difficult to exaggerate the adverse infl...   \n",
       "\n",
       "                                                   author  \\\n",
       "90801           Cintra Wilson, Colors Insulting To Nature   \n",
       "188014    Mina Marial Nicoli, The Magic of Avalon Eyrelin   \n",
       "46925   Christina Engela, Fearotica: An Anthology of E...   \n",
       "9480          Darynda Jones, Fourth Grave Beneath My Feet   \n",
       "315937                           Hypatia Bradlaugh Bonner   \n",
       "\n",
       "                                                 category  \n",
       "90801                                beauty, life, misery  \n",
       "188014                 avalon-eyrelin, imagination, magic  \n",
       "46925   bonfire, education, fueled, hate, human-traged...  \n",
       "9480                                                humor  \n",
       "315937  equality, happiness, influence, motherhood, op...  "
      ]
     },
     "execution_count": 154,
     "metadata": {},
     "output_type": "execute_result"
    }
   ],
   "source": [
    "quotes1.sample(5)"
   ]
  },
  {
   "cell_type": "code",
   "execution_count": 155,
   "metadata": {},
   "outputs": [
    {
     "data": {
      "text/plain": [
       "2442"
      ]
     },
     "execution_count": 155,
     "metadata": {},
     "output_type": "execute_result"
    }
   ],
   "source": [
    "quotes1.duplicated().sum()"
   ]
  },
  {
   "cell_type": "code",
   "execution_count": 156,
   "metadata": {},
   "outputs": [],
   "source": [
    "quotes1.drop_duplicates(inplace=True)"
   ]
  },
  {
   "cell_type": "code",
   "execution_count": 157,
   "metadata": {},
   "outputs": [
    {
     "data": {
      "text/plain": [
       "quote          1\n",
       "author      1753\n",
       "category      63\n",
       "dtype: int64"
      ]
     },
     "execution_count": 157,
     "metadata": {},
     "output_type": "execute_result"
    }
   ],
   "source": [
    "quotes1.isna().sum()"
   ]
  },
  {
   "cell_type": "markdown",
   "metadata": {},
   "source": [
    "Only one quote contains NaN so we can simply delete it."
   ]
  },
  {
   "cell_type": "code",
   "execution_count": 158,
   "metadata": {},
   "outputs": [],
   "source": [
    "quotes1 = quotes1[quotes1['quote'].notna()]"
   ]
  },
  {
   "cell_type": "markdown",
   "metadata": {},
   "source": [
    "Let Nan's in column **'author'** be replaced by special value ***'unknown author'*** and just empty string for column **'category'**."
   ]
  },
  {
   "cell_type": "code",
   "execution_count": null,
   "metadata": {},
   "outputs": [],
   "source": [
    "quotes1['author'].fillna('unknown author', inplace=True)\n",
    "quotes1['category'].fillna('', inplace=True)"
   ]
  },
  {
   "cell_type": "markdown",
   "metadata": {},
   "source": [
    "The column **'author'** contains both author's name and title (book's name, etc.) separated by comma so we can split this column into two ones."
   ]
  },
  {
   "cell_type": "code",
   "execution_count": 160,
   "metadata": {},
   "outputs": [
    {
     "data": {
      "text/html": [
       "<div>\n",
       "<style scoped>\n",
       "    .dataframe tbody tr th:only-of-type {\n",
       "        vertical-align: middle;\n",
       "    }\n",
       "\n",
       "    .dataframe tbody tr th {\n",
       "        vertical-align: top;\n",
       "    }\n",
       "\n",
       "    .dataframe thead th {\n",
       "        text-align: right;\n",
       "    }\n",
       "</style>\n",
       "<table border=\"1\" class=\"dataframe\">\n",
       "  <thead>\n",
       "    <tr style=\"text-align: right;\">\n",
       "      <th></th>\n",
       "      <th>quote</th>\n",
       "      <th>author</th>\n",
       "      <th>category</th>\n",
       "    </tr>\n",
       "  </thead>\n",
       "  <tbody>\n",
       "    <tr>\n",
       "      <th>108458</th>\n",
       "      <td>To suffer destructive consequences is to obey ...</td>\n",
       "      <td>Sunday Adelaja</td>\n",
       "      <td>consequence, human, law, nature, obey</td>\n",
       "    </tr>\n",
       "    <tr>\n",
       "      <th>104278</th>\n",
       "      <td>In 1914, Franz Ferdinand, the Austrian imperia...</td>\n",
       "      <td>Loren D. Estleman, Gas City</td>\n",
       "      <td>assassination, history, reform, sarajevo, worl...</td>\n",
       "    </tr>\n",
       "    <tr>\n",
       "      <th>31687</th>\n",
       "      <td>Why is it we have so little choice? We live li...</td>\n",
       "      <td>Banana Yoshimoto, Kitchen</td>\n",
       "      <td>death, life, love</td>\n",
       "    </tr>\n",
       "    <tr>\n",
       "      <th>268256</th>\n",
       "      <td>I'd rather you shot at tin cans in the back ya...</td>\n",
       "      <td>Harper Lee</td>\n",
       "      <td>mockingbird, music, sin, singing</td>\n",
       "    </tr>\n",
       "    <tr>\n",
       "      <th>36879</th>\n",
       "      <td>i hope thatwhoever you arewherever you areand ...</td>\n",
       "      <td>Sanober  Khan</td>\n",
       "      <td>feelings, inspirational, keep-strong, life-quo...</td>\n",
       "    </tr>\n",
       "  </tbody>\n",
       "</table>\n",
       "</div>"
      ],
      "text/plain": [
       "                                                    quote  \\\n",
       "108458  To suffer destructive consequences is to obey ...   \n",
       "104278  In 1914, Franz Ferdinand, the Austrian imperia...   \n",
       "31687   Why is it we have so little choice? We live li...   \n",
       "268256  I'd rather you shot at tin cans in the back ya...   \n",
       "36879   i hope thatwhoever you arewherever you areand ...   \n",
       "\n",
       "                             author  \\\n",
       "108458               Sunday Adelaja   \n",
       "104278  Loren D. Estleman, Gas City   \n",
       "31687     Banana Yoshimoto, Kitchen   \n",
       "268256                   Harper Lee   \n",
       "36879                 Sanober  Khan   \n",
       "\n",
       "                                                 category  \n",
       "108458              consequence, human, law, nature, obey  \n",
       "104278  assassination, history, reform, sarajevo, worl...  \n",
       "31687                                   death, life, love  \n",
       "268256                   mockingbird, music, sin, singing  \n",
       "36879   feelings, inspirational, keep-strong, life-quo...  "
      ]
     },
     "execution_count": 160,
     "metadata": {},
     "output_type": "execute_result"
    }
   ],
   "source": [
    "quotes1.sample(5)"
   ]
  },
  {
   "cell_type": "code",
   "execution_count": null,
   "metadata": {},
   "outputs": [],
   "source": [
    "quotes1[['author', 'title']] = quotes1['author'].str.split(',', 1, expand=True)\n",
    "\n",
    "quotes1['author'] = quotes1['author'].apply(lambda x: x.strip())\n",
    "quotes1['title'] = quotes1['title'].apply(lambda x: x.strip() if x else '')"
   ]
  },
  {
   "cell_type": "markdown",
   "metadata": {},
   "source": [
    "Some values in **'author'** column are equal to ***'Anonymous'*** so let's replace them with value ***'unknown author'***."
   ]
  },
  {
   "cell_type": "code",
   "execution_count": 162,
   "metadata": {},
   "outputs": [
    {
     "data": {
      "text/plain": [
       "1581"
      ]
     },
     "execution_count": 162,
     "metadata": {},
     "output_type": "execute_result"
    }
   ],
   "source": [
    "(quotes1['author'] == 'Anonymous').sum()"
   ]
  },
  {
   "cell_type": "code",
   "execution_count": null,
   "metadata": {},
   "outputs": [],
   "source": [
    "quotes1.loc[quotes1['author'].str.lower() == 'anonymous', 'author'] = 'unknown author'"
   ]
  },
  {
   "cell_type": "markdown",
   "metadata": {},
   "source": [
    "The assumption is that how often authors and categories occur in dataset is correlated with popularity. Rough and disputable yet satisfying.\n",
    "\n",
    "Let's check it out with second dataset."
   ]
  },
  {
   "cell_type": "markdown",
   "metadata": {},
   "source": [
    "It seems that max number of likes per each author or title represents popularity (nearly) and that exactly what we need. The problem of this approach is that we can overestimate number of likes for unpopular quotes by frequently encountered authors and titles, but I believe it's okay as we want to count it approximately.\n",
    "\n",
    "So we can calculate correlation between number of each author quotes and above sum to check our assumption."
   ]
  },
  {
   "cell_type": "code",
   "execution_count": 164,
   "metadata": {},
   "outputs": [],
   "source": [
    "authors_occurrences = quotes2['AUTHOR'].value_counts().to_dict()\n",
    "titles_occurrences = quotes2['TITLE'].value_counts().to_dict()\n",
    "\n",
    "likes_per_author = quotes2.groupby('AUTHOR')['LIKES'].max().reset_index()\n",
    "likes_per_title = quotes2.groupby('TITLE')['LIKES'].max().reset_index()\n",
    "\n",
    "likes_per_author['cnt'] = likes_per_author['AUTHOR'].apply(lambda x: authors_occurrences[x])\n",
    "likes_per_title['cnt'] = likes_per_title['TITLE'].apply(lambda x: titles_occurrences[x])"
   ]
  },
  {
   "cell_type": "code",
   "execution_count": 165,
   "metadata": {},
   "outputs": [
    {
     "data": {
      "text/html": [
       "<div>\n",
       "<style scoped>\n",
       "    .dataframe tbody tr th:only-of-type {\n",
       "        vertical-align: middle;\n",
       "    }\n",
       "\n",
       "    .dataframe tbody tr th {\n",
       "        vertical-align: top;\n",
       "    }\n",
       "\n",
       "    .dataframe thead th {\n",
       "        text-align: right;\n",
       "    }\n",
       "</style>\n",
       "<table border=\"1\" class=\"dataframe\">\n",
       "  <thead>\n",
       "    <tr style=\"text-align: right;\">\n",
       "      <th></th>\n",
       "      <th>LIKES</th>\n",
       "      <th>cnt</th>\n",
       "    </tr>\n",
       "  </thead>\n",
       "  <tbody>\n",
       "    <tr>\n",
       "      <th>LIKES</th>\n",
       "      <td>1.000000</td>\n",
       "      <td>0.333332</td>\n",
       "    </tr>\n",
       "    <tr>\n",
       "      <th>cnt</th>\n",
       "      <td>0.333332</td>\n",
       "      <td>1.000000</td>\n",
       "    </tr>\n",
       "  </tbody>\n",
       "</table>\n",
       "</div>"
      ],
      "text/plain": [
       "          LIKES       cnt\n",
       "LIKES  1.000000  0.333332\n",
       "cnt    0.333332  1.000000"
      ]
     },
     "execution_count": 165,
     "metadata": {},
     "output_type": "execute_result"
    }
   ],
   "source": [
    "likes_per_author.corr()"
   ]
  },
  {
   "cell_type": "code",
   "execution_count": 166,
   "metadata": {},
   "outputs": [
    {
     "data": {
      "text/html": [
       "<div>\n",
       "<style scoped>\n",
       "    .dataframe tbody tr th:only-of-type {\n",
       "        vertical-align: middle;\n",
       "    }\n",
       "\n",
       "    .dataframe tbody tr th {\n",
       "        vertical-align: top;\n",
       "    }\n",
       "\n",
       "    .dataframe thead th {\n",
       "        text-align: right;\n",
       "    }\n",
       "</style>\n",
       "<table border=\"1\" class=\"dataframe\">\n",
       "  <thead>\n",
       "    <tr style=\"text-align: right;\">\n",
       "      <th></th>\n",
       "      <th>LIKES</th>\n",
       "      <th>cnt</th>\n",
       "    </tr>\n",
       "  </thead>\n",
       "  <tbody>\n",
       "    <tr>\n",
       "      <th>LIKES</th>\n",
       "      <td>1.000000</td>\n",
       "      <td>0.347557</td>\n",
       "    </tr>\n",
       "    <tr>\n",
       "      <th>cnt</th>\n",
       "      <td>0.347557</td>\n",
       "      <td>1.000000</td>\n",
       "    </tr>\n",
       "  </tbody>\n",
       "</table>\n",
       "</div>"
      ],
      "text/plain": [
       "          LIKES       cnt\n",
       "LIKES  1.000000  0.347557\n",
       "cnt    0.347557  1.000000"
      ]
     },
     "execution_count": 166,
     "metadata": {},
     "output_type": "execute_result"
    }
   ],
   "source": [
    "likes_per_title.corr()"
   ]
  },
  {
   "cell_type": "markdown",
   "metadata": {},
   "source": [
    "Correlation isn't too big but still not too small so the assumption feels like the truth. \n",
    "\n",
    "Let's add column **'popularity index'** to first dataset."
   ]
  },
  {
   "cell_type": "code",
   "execution_count": 167,
   "metadata": {},
   "outputs": [],
   "source": [
    "author_lower = quotes1['author'].apply(lambda x: str.lower(x))\n",
    "title_lower = quotes1['title'].apply(lambda x: str.lower(x))"
   ]
  },
  {
   "cell_type": "code",
   "execution_count": 168,
   "metadata": {},
   "outputs": [],
   "source": [
    "authors_occurrences = author_lower.value_counts().to_dict()\n",
    "titles_occurrences = title_lower.value_counts().to_dict()"
   ]
  },
  {
   "cell_type": "code",
   "execution_count": 169,
   "metadata": {},
   "outputs": [],
   "source": [
    "def count_unique_words(data):\n",
    "    words_count = {}\n",
    "\n",
    "    for s in data:\n",
    "        words = [str.lower(str.strip(i)) for i in s.split(',')]\n",
    "\n",
    "        for word in words:\n",
    "            if word in words_count:\n",
    "                words_count[word] += 1\n",
    "            else:\n",
    "                words_count[word] = 1\n",
    "\n",
    "    return words_count"
   ]
  },
  {
   "cell_type": "code",
   "execution_count": 170,
   "metadata": {},
   "outputs": [
    {
     "data": {
      "text/plain": [
       "[('love', 42393),\n",
       " ('life', 40514),\n",
       " ('inspirational', 28996),\n",
       " ('philosophy', 15076),\n",
       " ('humor', 14096),\n",
       " ('god', 13903),\n",
       " ('truth', 12352),\n",
       " ('wisdom', 11125),\n",
       " ('happiness', 10543),\n",
       " ('people', 10302)]"
      ]
     },
     "execution_count": 170,
     "metadata": {},
     "output_type": "execute_result"
    }
   ],
   "source": [
    "categories_occurrences = count_unique_words(quotes1['category'].values)\n",
    "sorted(categories_occurrences.items(), key=lambda item: -item[1])[:10]"
   ]
  },
  {
   "cell_type": "code",
   "execution_count": 171,
   "metadata": {},
   "outputs": [],
   "source": [
    "def count_category_index(data):\n",
    "    sum = 0\n",
    "\n",
    "    cats = [str.lower(str.strip(i)) for i in data.split(',')]\n",
    "\n",
    "    for cat in cats:\n",
    "        sum += categories_occurrences[cat]\n",
    "\n",
    "    return sum"
   ]
  },
  {
   "cell_type": "code",
   "execution_count": null,
   "metadata": {},
   "outputs": [],
   "source": [
    "quotes1['author_index'] = author_lower.apply(lambda x: 0 if x == 'unknown author' else authors_occurrences[x])\n",
    "quotes1['title_index'] = title_lower.apply(lambda x: 0 if x == '' else titles_occurrences[x])\n",
    "quotes1['category_index'] = quotes1['category'].apply(count_category_index)"
   ]
  },
  {
   "cell_type": "code",
   "execution_count": 173,
   "metadata": {},
   "outputs": [
    {
     "data": {
      "text/html": [
       "<div>\n",
       "<style scoped>\n",
       "    .dataframe tbody tr th:only-of-type {\n",
       "        vertical-align: middle;\n",
       "    }\n",
       "\n",
       "    .dataframe tbody tr th {\n",
       "        vertical-align: top;\n",
       "    }\n",
       "\n",
       "    .dataframe thead th {\n",
       "        text-align: right;\n",
       "    }\n",
       "</style>\n",
       "<table border=\"1\" class=\"dataframe\">\n",
       "  <thead>\n",
       "    <tr style=\"text-align: right;\">\n",
       "      <th></th>\n",
       "      <th>quote</th>\n",
       "      <th>author</th>\n",
       "      <th>category</th>\n",
       "      <th>title</th>\n",
       "      <th>author_index</th>\n",
       "      <th>title_index</th>\n",
       "      <th>category_index</th>\n",
       "    </tr>\n",
       "  </thead>\n",
       "  <tbody>\n",
       "    <tr>\n",
       "      <th>247575</th>\n",
       "      <td>Tears flow and smiles fade to the same rhythm ...</td>\n",
       "      <td>Rémy de Gourmont</td>\n",
       "      <td>ephemeral, life, memories, oblivion</td>\n",
       "      <td>Philosophic Nights in Paris,: Being Selections...</td>\n",
       "      <td>26</td>\n",
       "      <td>15</td>\n",
       "      <td>42264</td>\n",
       "    </tr>\n",
       "    <tr>\n",
       "      <th>266738</th>\n",
       "      <td>When you’re here, an i in the Ocean, you’re no...</td>\n",
       "      <td>Jean-Pierre Weill</td>\n",
       "      <td>health, perspective, selfhood, stories, well-b...</td>\n",
       "      <td>The Well of Being: A Children's Book for Adults</td>\n",
       "      <td>1</td>\n",
       "      <td>1</td>\n",
       "      <td>5041</td>\n",
       "    </tr>\n",
       "    <tr>\n",
       "      <th>427862</th>\n",
       "      <td>I hope I'm always learning something.</td>\n",
       "      <td>Kate Winslet</td>\n",
       "      <td>Learning, Always, Something</td>\n",
       "      <td></td>\n",
       "      <td>36</td>\n",
       "      <td>0</td>\n",
       "      <td>3743</td>\n",
       "    </tr>\n",
       "    <tr>\n",
       "      <th>449570</th>\n",
       "      <td>Happiness isn't getting what you want, it's wa...</td>\n",
       "      <td>Garth Brooks</td>\n",
       "      <td>Want, You, Wanting</td>\n",
       "      <td></td>\n",
       "      <td>12</td>\n",
       "      <td>0</td>\n",
       "      <td>8554</td>\n",
       "    </tr>\n",
       "    <tr>\n",
       "      <th>270119</th>\n",
       "      <td>the rent here may be low but i believe we have...</td>\n",
       "      <td>Jane Austen</td>\n",
       "      <td>humility, rent, sense, sensibility</td>\n",
       "      <td></td>\n",
       "      <td>458</td>\n",
       "      <td>0</td>\n",
       "      <td>1836</td>\n",
       "    </tr>\n",
       "  </tbody>\n",
       "</table>\n",
       "</div>"
      ],
      "text/plain": [
       "                                                    quote             author  \\\n",
       "247575  Tears flow and smiles fade to the same rhythm ...   Rémy de Gourmont   \n",
       "266738  When you’re here, an i in the Ocean, you’re no...  Jean-Pierre Weill   \n",
       "427862              I hope I'm always learning something.       Kate Winslet   \n",
       "449570  Happiness isn't getting what you want, it's wa...       Garth Brooks   \n",
       "270119  the rent here may be low but i believe we have...        Jane Austen   \n",
       "\n",
       "                                                 category  \\\n",
       "247575                ephemeral, life, memories, oblivion   \n",
       "266738  health, perspective, selfhood, stories, well-b...   \n",
       "427862                       Learning, Always, Something    \n",
       "449570                                Want, You, Wanting    \n",
       "270119                 humility, rent, sense, sensibility   \n",
       "\n",
       "                                                    title  author_index  \\\n",
       "247575  Philosophic Nights in Paris,: Being Selections...            26   \n",
       "266738    The Well of Being: A Children's Book for Adults             1   \n",
       "427862                                                               36   \n",
       "449570                                                               12   \n",
       "270119                                                              458   \n",
       "\n",
       "        title_index  category_index  \n",
       "247575           15           42264  \n",
       "266738            1            5041  \n",
       "427862            0            3743  \n",
       "449570            0            8554  \n",
       "270119            0            1836  "
      ]
     },
     "execution_count": 173,
     "metadata": {},
     "output_type": "execute_result"
    }
   ],
   "source": [
    "quotes1.sample(5)"
   ]
  },
  {
   "cell_type": "code",
   "execution_count": 174,
   "metadata": {},
   "outputs": [
    {
     "data": {
      "text/plain": [
       "author_index       10620\n",
       "title_index         3059\n",
       "category_index    463522\n",
       "dtype: int64"
      ]
     },
     "execution_count": 174,
     "metadata": {},
     "output_type": "execute_result"
    }
   ],
   "source": [
    "quotes1[['author_index', 'title_index', 'category_index']].max()"
   ]
  },
  {
   "cell_type": "code",
   "execution_count": null,
   "metadata": {},
   "outputs": [],
   "source": [
    "quotes1['popularity_index'] = (quotes1['author_index'] / quotes1['author_index'].max() + \\\n",
    "                               quotes1['title_index'] / quotes1['title_index'].max() + \\\n",
    "                               quotes1['category_index'] / quotes1['category_index'].max())\n",
    "\n",
    "min_index = quotes1['popularity_index'].min()\n",
    "quotes1['popularity_index'] = (quotes1['popularity_index'] - min_index) / (quotes1['popularity_index'].max() - min_index) * 100"
   ]
  },
  {
   "cell_type": "markdown",
   "metadata": {},
   "source": [
    "## Second dataset"
   ]
  },
  {
   "cell_type": "code",
   "execution_count": 176,
   "metadata": {},
   "outputs": [],
   "source": [
    "quotes2.columns = map(str.lower, quotes2.columns)"
   ]
  },
  {
   "cell_type": "code",
   "execution_count": 177,
   "metadata": {},
   "outputs": [
    {
     "data": {
      "text/html": [
       "<div>\n",
       "<style scoped>\n",
       "    .dataframe tbody tr th:only-of-type {\n",
       "        vertical-align: middle;\n",
       "    }\n",
       "\n",
       "    .dataframe tbody tr th {\n",
       "        vertical-align: top;\n",
       "    }\n",
       "\n",
       "    .dataframe thead th {\n",
       "        text-align: right;\n",
       "    }\n",
       "</style>\n",
       "<table border=\"1\" class=\"dataframe\">\n",
       "  <thead>\n",
       "    <tr style=\"text-align: right;\">\n",
       "      <th></th>\n",
       "      <th>quote</th>\n",
       "      <th>author</th>\n",
       "      <th>title</th>\n",
       "      <th>likes</th>\n",
       "      <th>tags</th>\n",
       "    </tr>\n",
       "  </thead>\n",
       "  <tbody>\n",
       "    <tr>\n",
       "      <th>26694</th>\n",
       "      <td>“In any case, Cide Hamete Benengeli was a very...</td>\n",
       "      <td>Miguel de Cervantes Saavedra</td>\n",
       "      <td>Don Quixote</td>\n",
       "      <td>3</td>\n",
       "      <td>['writing']</td>\n",
       "    </tr>\n",
       "    <tr>\n",
       "      <th>313211</th>\n",
       "      <td>“I cannot pretend that the reading I have done...</td>\n",
       "      <td>Diane Setterfield</td>\n",
       "      <td>The Thirteenth Tale</td>\n",
       "      <td>0</td>\n",
       "      <td>None</td>\n",
       "    </tr>\n",
       "    <tr>\n",
       "      <th>327257</th>\n",
       "      <td>“Those who had easy answers, be they on the ri...</td>\n",
       "      <td>Harlan Coben</td>\n",
       "      <td>Missing You</td>\n",
       "      <td>3</td>\n",
       "      <td>None</td>\n",
       "    </tr>\n",
       "    <tr>\n",
       "      <th>62931</th>\n",
       "      <td>“It's not your fault,\" Carlisle comforted me w...</td>\n",
       "      <td>Stephenie Meyer</td>\n",
       "      <td>New Moon</td>\n",
       "      <td>21</td>\n",
       "      <td>None</td>\n",
       "    </tr>\n",
       "    <tr>\n",
       "      <th>151776</th>\n",
       "      <td>“In the throws of depression, one reaches a st...</td>\n",
       "      <td>Andrew Solomon</td>\n",
       "      <td>The Noonday Demon: An Atlas of Depression</td>\n",
       "      <td>75</td>\n",
       "      <td>None</td>\n",
       "    </tr>\n",
       "  </tbody>\n",
       "</table>\n",
       "</div>"
      ],
      "text/plain": [
       "                                                    quote  \\\n",
       "26694   “In any case, Cide Hamete Benengeli was a very...   \n",
       "313211  “I cannot pretend that the reading I have done...   \n",
       "327257  “Those who had easy answers, be they on the ri...   \n",
       "62931   “It's not your fault,\" Carlisle comforted me w...   \n",
       "151776  “In the throws of depression, one reaches a st...   \n",
       "\n",
       "                              author  \\\n",
       "26694   Miguel de Cervantes Saavedra   \n",
       "313211             Diane Setterfield   \n",
       "327257                  Harlan Coben   \n",
       "62931                Stephenie Meyer   \n",
       "151776                Andrew Solomon   \n",
       "\n",
       "                                            title  likes         tags  \n",
       "26694                                 Don Quixote      3  ['writing']  \n",
       "313211                        The Thirteenth Tale      0         None  \n",
       "327257                                Missing You      3         None  \n",
       "62931                                    New Moon     21         None  \n",
       "151776  The Noonday Demon: An Atlas of Depression     75         None  "
      ]
     },
     "execution_count": 177,
     "metadata": {},
     "output_type": "execute_result"
    }
   ],
   "source": [
    "quotes2.sample(5)"
   ]
  },
  {
   "cell_type": "code",
   "execution_count": 178,
   "metadata": {},
   "outputs": [
    {
     "data": {
      "text/plain": [
       "247757"
      ]
     },
     "execution_count": 178,
     "metadata": {},
     "output_type": "execute_result"
    }
   ],
   "source": [
    "(quotes2['tags'] == 'None').sum()"
   ]
  },
  {
   "cell_type": "markdown",
   "metadata": {},
   "source": [
    "Since there are a lot of ***'None'*** values in column **'tags'** we have to delete it. As we delete this column, we also have to delete similar column **'category'** in the first dataset."
   ]
  },
  {
   "cell_type": "code",
   "execution_count": 179,
   "metadata": {},
   "outputs": [],
   "source": [
    "quotes2 = quotes2.drop(['tags'], axis=1)"
   ]
  },
  {
   "cell_type": "code",
   "execution_count": 180,
   "metadata": {},
   "outputs": [
    {
     "data": {
      "text/plain": [
       "0"
      ]
     },
     "execution_count": 180,
     "metadata": {},
     "output_type": "execute_result"
    }
   ],
   "source": [
    "quotes2.duplicated().sum()"
   ]
  },
  {
   "cell_type": "code",
   "execution_count": 181,
   "metadata": {},
   "outputs": [
    {
     "data": {
      "text/plain": [
       "quote     1\n",
       "author    0\n",
       "title     0\n",
       "likes     0\n",
       "dtype: int64"
      ]
     },
     "execution_count": 181,
     "metadata": {},
     "output_type": "execute_result"
    }
   ],
   "source": [
    "quotes2.isna().sum()"
   ]
  },
  {
   "cell_type": "code",
   "execution_count": 182,
   "metadata": {},
   "outputs": [],
   "source": [
    "quotes2 = quotes2[quotes2['quote'].notna()]"
   ]
  },
  {
   "cell_type": "code",
   "execution_count": 183,
   "metadata": {},
   "outputs": [
    {
     "name": "stdout",
     "output_type": "stream",
     "text": [
      "4481\n",
      "3\n"
     ]
    }
   ],
   "source": [
    "print((quotes2['title'] == 'None').sum())\n",
    "print((quotes2['author'] == 'anonymous').sum())"
   ]
  },
  {
   "cell_type": "code",
   "execution_count": 184,
   "metadata": {},
   "outputs": [],
   "source": [
    "quotes2.loc[quotes2['title'] == 'None', 'title'] = ''"
   ]
  },
  {
   "cell_type": "code",
   "execution_count": 185,
   "metadata": {},
   "outputs": [],
   "source": [
    "quotes2.loc[quotes2['author'].str.lower() == 'anonymous', 'author'] = 'unknown author'"
   ]
  },
  {
   "cell_type": "code",
   "execution_count": 186,
   "metadata": {},
   "outputs": [
    {
     "data": {
      "text/html": [
       "<div>\n",
       "<style scoped>\n",
       "    .dataframe tbody tr th:only-of-type {\n",
       "        vertical-align: middle;\n",
       "    }\n",
       "\n",
       "    .dataframe tbody tr th {\n",
       "        vertical-align: top;\n",
       "    }\n",
       "\n",
       "    .dataframe thead th {\n",
       "        text-align: right;\n",
       "    }\n",
       "</style>\n",
       "<table border=\"1\" class=\"dataframe\">\n",
       "  <thead>\n",
       "    <tr style=\"text-align: right;\">\n",
       "      <th></th>\n",
       "      <th>likes</th>\n",
       "    </tr>\n",
       "  </thead>\n",
       "  <tbody>\n",
       "    <tr>\n",
       "      <th>count</th>\n",
       "      <td>348084.000000</td>\n",
       "    </tr>\n",
       "    <tr>\n",
       "      <th>mean</th>\n",
       "      <td>52.315631</td>\n",
       "    </tr>\n",
       "    <tr>\n",
       "      <th>std</th>\n",
       "      <td>603.999740</td>\n",
       "    </tr>\n",
       "    <tr>\n",
       "      <th>min</th>\n",
       "      <td>-1.000000</td>\n",
       "    </tr>\n",
       "    <tr>\n",
       "      <th>25%</th>\n",
       "      <td>0.000000</td>\n",
       "    </tr>\n",
       "    <tr>\n",
       "      <th>50%</th>\n",
       "      <td>2.000000</td>\n",
       "    </tr>\n",
       "    <tr>\n",
       "      <th>75%</th>\n",
       "      <td>13.000000</td>\n",
       "    </tr>\n",
       "    <tr>\n",
       "      <th>max</th>\n",
       "      <td>95186.000000</td>\n",
       "    </tr>\n",
       "  </tbody>\n",
       "</table>\n",
       "</div>"
      ],
      "text/plain": [
       "               likes\n",
       "count  348084.000000\n",
       "mean       52.315631\n",
       "std       603.999740\n",
       "min        -1.000000\n",
       "25%         0.000000\n",
       "50%         2.000000\n",
       "75%        13.000000\n",
       "max     95186.000000"
      ]
     },
     "execution_count": 186,
     "metadata": {},
     "output_type": "execute_result"
    }
   ],
   "source": [
    "quotes2.describe()"
   ]
  },
  {
   "cell_type": "code",
   "execution_count": 187,
   "metadata": {},
   "outputs": [
    {
     "data": {
      "text/plain": [
       "36"
      ]
     },
     "execution_count": 187,
     "metadata": {},
     "output_type": "execute_result"
    }
   ],
   "source": [
    "(quotes2['likes'] == -1).sum()"
   ]
  },
  {
   "cell_type": "markdown",
   "metadata": {},
   "source": [
    "It looks like **'-1'** value in the **'likes'** column was used for an unknown number of likes so we can replace this value with **0**."
   ]
  },
  {
   "cell_type": "code",
   "execution_count": 188,
   "metadata": {},
   "outputs": [],
   "source": [
    "quotes2.loc[quotes2['likes'] == -1, 'likes'] = 0"
   ]
  },
  {
   "cell_type": "markdown",
   "metadata": {},
   "source": [
    "Many values in the **'likes'** column are close to **0** so large values are like outliers."
   ]
  },
  {
   "cell_type": "code",
   "execution_count": 189,
   "metadata": {},
   "outputs": [
    {
     "data": {
      "text/plain": [
       "360"
      ]
     },
     "execution_count": 189,
     "metadata": {},
     "output_type": "execute_result"
    }
   ],
   "source": [
    "(quotes2['likes'] > 5000).sum()"
   ]
  },
  {
   "cell_type": "markdown",
   "metadata": {},
   "source": [
    "There are few values greater than 5000, that's why we can replace them with 5000 making min-max scaling and distribution more usable."
   ]
  },
  {
   "cell_type": "code",
   "execution_count": 190,
   "metadata": {},
   "outputs": [],
   "source": [
    "quotes2.loc[quotes2['likes'] > 5000, 'likes'] = 5000"
   ]
  },
  {
   "cell_type": "code",
   "execution_count": 191,
   "metadata": {},
   "outputs": [],
   "source": [
    "quotes2['popularity_index'] = quotes2['likes'] / quotes2['likes'].max() * 100 # min value = 0"
   ]
  },
  {
   "cell_type": "markdown",
   "metadata": {},
   "source": [
    "## Datasets  concatenation"
   ]
  },
  {
   "cell_type": "code",
   "execution_count": 192,
   "metadata": {},
   "outputs": [],
   "source": [
    "quotes = pd.concat([quotes1[['quote', 'author', 'title', 'popularity_index']],\n",
    "                    quotes2[['quote', 'author', 'title', 'popularity_index']]])"
   ]
  },
  {
   "cell_type": "code",
   "execution_count": 193,
   "metadata": {},
   "outputs": [
    {
     "data": {
      "text/plain": [
       "2848"
      ]
     },
     "execution_count": 193,
     "metadata": {},
     "output_type": "execute_result"
    }
   ],
   "source": [
    "quotes[['quote', 'author', 'title']].duplicated().sum()"
   ]
  },
  {
   "cell_type": "code",
   "execution_count": 194,
   "metadata": {},
   "outputs": [],
   "source": [
    "quotes = quotes[~quotes[['quote', 'author', 'title']].duplicated()]"
   ]
  },
  {
   "cell_type": "code",
   "execution_count": 195,
   "metadata": {},
   "outputs": [],
   "source": [
    "quotes = quotes.sort_values(by='popularity_index', ascending=False).reset_index(drop=True)"
   ]
  },
  {
   "cell_type": "code",
   "execution_count": 196,
   "metadata": {},
   "outputs": [
    {
     "data": {
      "text/html": [
       "<div>\n",
       "<style scoped>\n",
       "    .dataframe tbody tr th:only-of-type {\n",
       "        vertical-align: middle;\n",
       "    }\n",
       "\n",
       "    .dataframe tbody tr th {\n",
       "        vertical-align: top;\n",
       "    }\n",
       "\n",
       "    .dataframe thead th {\n",
       "        text-align: right;\n",
       "    }\n",
       "</style>\n",
       "<table border=\"1\" class=\"dataframe\">\n",
       "  <thead>\n",
       "    <tr style=\"text-align: right;\">\n",
       "      <th></th>\n",
       "      <th>quote</th>\n",
       "      <th>author</th>\n",
       "      <th>title</th>\n",
       "      <th>popularity_index</th>\n",
       "    </tr>\n",
       "  </thead>\n",
       "  <tbody>\n",
       "    <tr>\n",
       "      <th>0</th>\n",
       "      <td>“I took a deep breath and listened to the old ...</td>\n",
       "      <td>Sylvia Plath</td>\n",
       "      <td>The Bell Jar</td>\n",
       "      <td>100.0</td>\n",
       "    </tr>\n",
       "    <tr>\n",
       "      <th>1</th>\n",
       "      <td>“You haven't got a letter on yours,\" George ob...</td>\n",
       "      <td>J.K. Rowling</td>\n",
       "      <td>Harry Potter and the Sorcerer's Stone</td>\n",
       "      <td>100.0</td>\n",
       "    </tr>\n",
       "    <tr>\n",
       "      <th>2</th>\n",
       "      <td>“The fact that we live at the bottom of a deep...</td>\n",
       "      <td>Douglas Adams</td>\n",
       "      <td>The Salmon of Doubt: Hitchhiking the Galaxy On...</td>\n",
       "      <td>100.0</td>\n",
       "    </tr>\n",
       "    <tr>\n",
       "      <th>3</th>\n",
       "      <td>“There is a theory which states that if ever a...</td>\n",
       "      <td>Douglas Adams</td>\n",
       "      <td>The Restaurant at the End of the Universe</td>\n",
       "      <td>100.0</td>\n",
       "    </tr>\n",
       "    <tr>\n",
       "      <th>4</th>\n",
       "      <td>“For instance, on the planet Earth, man had al...</td>\n",
       "      <td>Douglas Adams</td>\n",
       "      <td>The Hitchhiker's Guide to the Galaxy</td>\n",
       "      <td>100.0</td>\n",
       "    </tr>\n",
       "    <tr>\n",
       "      <th>...</th>\n",
       "      <td>...</td>\n",
       "      <td>...</td>\n",
       "      <td>...</td>\n",
       "      <td>...</td>\n",
       "    </tr>\n",
       "    <tr>\n",
       "      <th>842497</th>\n",
       "      <td>“History is written by victors,” said Duko. “B...</td>\n",
       "      <td>Raymond E. Feist</td>\n",
       "      <td>Shards of a Broken Crown</td>\n",
       "      <td>0.0</td>\n",
       "    </tr>\n",
       "    <tr>\n",
       "      <th>842498</th>\n",
       "      <td>“Never offer an oath lightly. For you pledge n...</td>\n",
       "      <td>Raymond E. Feist</td>\n",
       "      <td>King of Foxes</td>\n",
       "      <td>0.0</td>\n",
       "    </tr>\n",
       "    <tr>\n",
       "      <th>842499</th>\n",
       "      <td>“It’s tempting to think of yourself as powerfu...</td>\n",
       "      <td>Raymond E. Feist</td>\n",
       "      <td>Shards of a Broken Crown</td>\n",
       "      <td>0.0</td>\n",
       "    </tr>\n",
       "    <tr>\n",
       "      <th>842500</th>\n",
       "      <td>“A man makes choices,” Tal said.\\n“True, but w...</td>\n",
       "      <td>Raymond E. Feist</td>\n",
       "      <td>King of Foxes</td>\n",
       "      <td>0.0</td>\n",
       "    </tr>\n",
       "    <tr>\n",
       "      <th>842501</th>\n",
       "      <td>“We are obliged to live as if there’s meaning ...</td>\n",
       "      <td>Lama Surya Das</td>\n",
       "      <td>The Big Questions: A Buddhist Response to Life...</td>\n",
       "      <td>0.0</td>\n",
       "    </tr>\n",
       "  </tbody>\n",
       "</table>\n",
       "<p>842502 rows × 4 columns</p>\n",
       "</div>"
      ],
      "text/plain": [
       "                                                    quote            author  \\\n",
       "0       “I took a deep breath and listened to the old ...      Sylvia Plath   \n",
       "1       “You haven't got a letter on yours,\" George ob...      J.K. Rowling   \n",
       "2       “The fact that we live at the bottom of a deep...     Douglas Adams   \n",
       "3       “There is a theory which states that if ever a...     Douglas Adams   \n",
       "4       “For instance, on the planet Earth, man had al...     Douglas Adams   \n",
       "...                                                   ...               ...   \n",
       "842497  “History is written by victors,” said Duko. “B...  Raymond E. Feist   \n",
       "842498  “Never offer an oath lightly. For you pledge n...  Raymond E. Feist   \n",
       "842499  “It’s tempting to think of yourself as powerfu...  Raymond E. Feist   \n",
       "842500  “A man makes choices,” Tal said.\\n“True, but w...  Raymond E. Feist   \n",
       "842501  “We are obliged to live as if there’s meaning ...    Lama Surya Das   \n",
       "\n",
       "                                                    title  popularity_index  \n",
       "0                                            The Bell Jar             100.0  \n",
       "1                   Harry Potter and the Sorcerer's Stone             100.0  \n",
       "2       The Salmon of Doubt: Hitchhiking the Galaxy On...             100.0  \n",
       "3               The Restaurant at the End of the Universe             100.0  \n",
       "4                    The Hitchhiker's Guide to the Galaxy             100.0  \n",
       "...                                                   ...               ...  \n",
       "842497                           Shards of a Broken Crown               0.0  \n",
       "842498                                      King of Foxes               0.0  \n",
       "842499                           Shards of a Broken Crown               0.0  \n",
       "842500                                      King of Foxes               0.0  \n",
       "842501  The Big Questions: A Buddhist Response to Life...               0.0  \n",
       "\n",
       "[842502 rows x 4 columns]"
      ]
     },
     "execution_count": 196,
     "metadata": {},
     "output_type": "execute_result"
    }
   ],
   "source": [
    "quotes"
   ]
  },
  {
   "cell_type": "markdown",
   "metadata": {},
   "source": [
    "# 3. Lemmatization"
   ]
  },
  {
   "cell_type": "code",
   "execution_count": 198,
   "metadata": {},
   "outputs": [
    {
     "name": "stderr",
     "output_type": "stream",
     "text": [
      "100%|██████████| 843/843 [06:42<00:00,  2.09it/s]\n"
     ]
    }
   ],
   "source": [
    "quote_lemmatized = lemmatize_column(quotes, 'quote')\n",
    "quotes['quote_lemmatized'] = quote_lemmatized"
   ]
  },
  {
   "cell_type": "code",
   "execution_count": 199,
   "metadata": {},
   "outputs": [
    {
     "name": "stderr",
     "output_type": "stream",
     "text": [
      "100%|██████████| 843/843 [00:56<00:00, 14.81it/s]\n"
     ]
    }
   ],
   "source": [
    "author_lemmatized = lemmatize_column(quotes, 'author')\n",
    "quotes['author_lemmatized'] = author_lemmatized"
   ]
  },
  {
   "cell_type": "code",
   "execution_count": 200,
   "metadata": {},
   "outputs": [
    {
     "name": "stderr",
     "output_type": "stream",
     "text": [
      "100%|██████████| 843/843 [00:51<00:00, 16.41it/s]\n"
     ]
    }
   ],
   "source": [
    "title_lemmatized = lemmatize_column(quotes, 'title')\n",
    "quotes['title_lemmatized'] = title_lemmatized"
   ]
  },
  {
   "cell_type": "code",
   "execution_count": 213,
   "metadata": {},
   "outputs": [
    {
     "data": {
      "text/html": [
       "<div>\n",
       "<style scoped>\n",
       "    .dataframe tbody tr th:only-of-type {\n",
       "        vertical-align: middle;\n",
       "    }\n",
       "\n",
       "    .dataframe tbody tr th {\n",
       "        vertical-align: top;\n",
       "    }\n",
       "\n",
       "    .dataframe thead th {\n",
       "        text-align: right;\n",
       "    }\n",
       "</style>\n",
       "<table border=\"1\" class=\"dataframe\">\n",
       "  <thead>\n",
       "    <tr style=\"text-align: right;\">\n",
       "      <th></th>\n",
       "      <th>quote</th>\n",
       "      <th>author</th>\n",
       "      <th>title</th>\n",
       "      <th>popularity_index</th>\n",
       "      <th>quote_lemmatized</th>\n",
       "      <th>author_lemmatized</th>\n",
       "      <th>title_lemmatized</th>\n",
       "    </tr>\n",
       "  </thead>\n",
       "  <tbody>\n",
       "    <tr>\n",
       "      <th>250698</th>\n",
       "      <td>You erased my famine, unpicked my angerYour en...</td>\n",
       "      <td>Jalaluddin Rumi</td>\n",
       "      <td>Words of Paradise: Selected Poems</td>\n",
       "      <td>1.426038</td>\n",
       "      <td>erase famine unpicked angeryour energy charge ...</td>\n",
       "      <td>jalaluddin rumi</td>\n",
       "      <td>word paradise select poem</td>\n",
       "    </tr>\n",
       "    <tr>\n",
       "      <th>586814</th>\n",
       "      <td>I'm not intimidated by anyone. Everyone is mad...</td>\n",
       "      <td>Josephine Baker</td>\n",
       "      <td></td>\n",
       "      <td>0.125370</td>\n",
       "      <td>intimidate anyone everyone make two arm two le...</td>\n",
       "      <td>josephine baker</td>\n",
       "      <td></td>\n",
       "    </tr>\n",
       "    <tr>\n",
       "      <th>777006</th>\n",
       "      <td>“A new Dragon’s Egg?” asked”</td>\n",
       "      <td>Melissa de la Cruz</td>\n",
       "      <td>Return to the Isle of the Lost</td>\n",
       "      <td>0.000000</td>\n",
       "      <td>new dragon egg ask</td>\n",
       "      <td>melissa de la cruz</td>\n",
       "      <td>return isle lose</td>\n",
       "    </tr>\n",
       "    <tr>\n",
       "      <th>281824</th>\n",
       "      <td>Each day of our lives we make deposits in the ...</td>\n",
       "      <td>Charles R. Swindoll</td>\n",
       "      <td></td>\n",
       "      <td>1.179047</td>\n",
       "      <td>day life make deposit memory bank child</td>\n",
       "      <td>charles r swindoll</td>\n",
       "      <td></td>\n",
       "    </tr>\n",
       "    <tr>\n",
       "      <th>132190</th>\n",
       "      <td>What makes and experience a memory is when we ...</td>\n",
       "      <td>Jeremy Aldana</td>\n",
       "      <td>Boys Will Be Boys</td>\n",
       "      <td>4.027288</td>\n",
       "      <td>make experience memory share someone emotion felt</td>\n",
       "      <td>jeremy aldana</td>\n",
       "      <td>boy boys</td>\n",
       "    </tr>\n",
       "  </tbody>\n",
       "</table>\n",
       "</div>"
      ],
      "text/plain": [
       "                                                    quote  \\\n",
       "250698  You erased my famine, unpicked my angerYour en...   \n",
       "586814  I'm not intimidated by anyone. Everyone is mad...   \n",
       "777006                       “A new Dragon’s Egg?” asked”   \n",
       "281824  Each day of our lives we make deposits in the ...   \n",
       "132190  What makes and experience a memory is when we ...   \n",
       "\n",
       "                     author                              title  \\\n",
       "250698      Jalaluddin Rumi  Words of Paradise: Selected Poems   \n",
       "586814      Josephine Baker                                      \n",
       "777006   Melissa de la Cruz     Return to the Isle of the Lost   \n",
       "281824  Charles R. Swindoll                                      \n",
       "132190        Jeremy Aldana                  Boys Will Be Boys   \n",
       "\n",
       "        popularity_index                                   quote_lemmatized  \\\n",
       "250698          1.426038  erase famine unpicked angeryour energy charge ...   \n",
       "586814          0.125370  intimidate anyone everyone make two arm two le...   \n",
       "777006          0.000000                                 new dragon egg ask   \n",
       "281824          1.179047            day life make deposit memory bank child   \n",
       "132190          4.027288  make experience memory share someone emotion felt   \n",
       "\n",
       "         author_lemmatized           title_lemmatized  \n",
       "250698     jalaluddin rumi  word paradise select poem  \n",
       "586814     josephine baker                             \n",
       "777006  melissa de la cruz           return isle lose  \n",
       "281824  charles r swindoll                             \n",
       "132190       jeremy aldana                   boy boys  "
      ]
     },
     "execution_count": 213,
     "metadata": {},
     "output_type": "execute_result"
    }
   ],
   "source": [
    "quotes.sample(5)"
   ]
  },
  {
   "cell_type": "markdown",
   "metadata": {},
   "source": [
    "# 4. Index building"
   ]
  },
  {
   "cell_type": "code",
   "execution_count": 215,
   "metadata": {},
   "outputs": [],
   "source": [
    "index = []\n",
    "\n",
    "for idx, row in quotes.iterrows():\n",
    "    index.append(\n",
    "        Document(idx,\n",
    "                 row.quote,\n",
    "                 row.author,\n",
    "                 row.title,\n",
    "                 row.quote_lemmatized,\n",
    "                 row.author_lemmatized,\n",
    "                 row.title_lemmatized))"
   ]
  },
  {
   "cell_type": "code",
   "execution_count": 218,
   "metadata": {},
   "outputs": [],
   "source": [
    "with open('index.pickle', 'wb') as f:\n",
    "    pickle.dump(index, f)"
   ]
  },
  {
   "cell_type": "markdown",
   "metadata": {},
   "source": [
    "# 5. Inverted indices building"
   ]
  },
  {
   "cell_type": "code",
   "execution_count": 219,
   "metadata": {},
   "outputs": [],
   "source": [
    "def build_inverted_index(data):\n",
    "    inv_index = defaultdict(list)\n",
    "\n",
    "    for idx, row in enumerate(data.values):\n",
    "        for word in set(row.split()):\n",
    "            inv_index[word].append(idx)\n",
    "\n",
    "    return inv_index"
   ]
  },
  {
   "cell_type": "code",
   "execution_count": 220,
   "metadata": {},
   "outputs": [],
   "source": [
    "quotes_inv_index = build_inverted_index(quotes['quote_lemmatized'])"
   ]
  },
  {
   "cell_type": "code",
   "execution_count": 221,
   "metadata": {},
   "outputs": [],
   "source": [
    "titles_inv_index = build_inverted_index(quotes['title_lemmatized'])"
   ]
  },
  {
   "cell_type": "code",
   "execution_count": 223,
   "metadata": {},
   "outputs": [],
   "source": [
    "with open('quotes_inv_index.pickle', 'wb') as f:\n",
    "    pickle.dump(quotes_inv_index, f)"
   ]
  },
  {
   "cell_type": "code",
   "execution_count": 224,
   "metadata": {},
   "outputs": [],
   "source": [
    "with open('titles_inv_index.pickle', 'wb') as f:\n",
    "    pickle.dump(titles_inv_index, f)"
   ]
  },
  {
   "cell_type": "markdown",
   "metadata": {},
   "source": [
    "# 6. **Score** func estimation"
   ]
  },
  {
   "cell_type": "markdown",
   "metadata": {},
   "source": [
    "Let's implement some prototypes of the functions that will be used in the search engine and simulate it's work in order to select and estimate **score** function.\n",
    "\n",
    "The **score** function would be based on simplification that all terms in query are independent and we can use additivity such that:\n",
    "\n",
    "$score(q, doc) = \\sum\\limits_{t ∈ q}score(t, doc)$, $where$ $q = query, t = term.$\n",
    "\n",
    "The first version of **score** calculates **tf_idf** value of lemmatized query by quote only."
   ]
  },
  {
   "cell_type": "code",
   "execution_count": 226,
   "metadata": {},
   "outputs": [],
   "source": [
    "DOCS_NUMBER = quotes.shape[0]"
   ]
  },
  {
   "cell_type": "code",
   "execution_count": 228,
   "metadata": {},
   "outputs": [],
   "source": [
    "def retrieve(query):\n",
    "    query_lemmatized = lemmatize_sentence(query)\n",
    "    keywords = query_lemmatized.split()\n",
    "\n",
    "    if not keywords:\n",
    "        return []\n",
    "\n",
    "    docs_by_quotes = set(quotes_inv_index[keywords[0]])\n",
    "    docs_by_titles = set(titles_inv_index[keywords[0]])\n",
    "\n",
    "    for word in keywords[1:]:\n",
    "        docs_by_quotes = docs_by_quotes.intersection(set(quotes_inv_index[word]))\n",
    "        docs_by_titles = docs_by_titles.intersection(set(titles_inv_index[word]))\n",
    "\n",
    "    return [index[i] for i in docs_by_titles.union(docs_by_quotes)][:300]"
   ]
  },
  {
   "cell_type": "code",
   "execution_count": 732,
   "metadata": {},
   "outputs": [],
   "source": [
    "def score(query, document):\n",
    "    doc_quote_words = document.quote_lemmatized.split()\n",
    "\n",
    "    def score_by_term(term):\n",
    "        tf = doc_quote_words.count(term)\n",
    "        df = len(quotes_inv_index[term])\n",
    "\n",
    "        tf_idf = tf * np.log(DOCS_NUMBER / df)\n",
    "        \n",
    "        return tf_idf\n",
    "\n",
    "    query_lemmatized = lemmatize_sentence(query)\n",
    "\n",
    "    sum = 0\n",
    "    \n",
    "    for term in query_lemmatized.split():\n",
    "        sum += score_by_term(term)\n",
    "\n",
    "    return sum"
   ]
  },
  {
   "cell_type": "code",
   "execution_count": 230,
   "metadata": {},
   "outputs": [],
   "source": [
    "def search(query):\n",
    "    documents = retrieve(query)\n",
    "    \n",
    "    scored = [(doc, score(query, doc)) for doc in documents]\n",
    "    scored = sorted(scored, key=lambda doc: -doc[1])\n",
    "\n",
    "    return scored"
   ]
  },
  {
   "cell_type": "markdown",
   "metadata": {},
   "source": [
    "We will use Mean reciprocal rank ([**MRR**](https://en.wikipedia.org/wiki/Mean_reciprocal_rank \"see more on wiki\")) to evaluate **score** function. For this I chose some random quotes and create a query that have to be respond by this quote for each one (in my humble opinion). Some of them contain title words. Function **mrr** calculates reciprocal rank for each query and returns mean value for all queries."
   ]
  },
  {
   "cell_type": "code",
   "execution_count": 716,
   "metadata": {},
   "outputs": [],
   "source": [
    "def mrr(queries):\n",
    "    value = 0\n",
    "    for query, doc_id in queries:\n",
    "        docs = [doc[0].id for doc in search(query)]\n",
    "\n",
    "        if doc_id in docs:\n",
    "            value += 1 / (docs.index(doc_id) + 1)\n",
    "\n",
    "    return value / len(queries)"
   ]
  },
  {
   "cell_type": "code",
   "execution_count": 613,
   "metadata": {},
   "outputs": [
    {
     "data": {
      "text/html": [
       "<div>\n",
       "<style scoped>\n",
       "    .dataframe tbody tr th:only-of-type {\n",
       "        vertical-align: middle;\n",
       "    }\n",
       "\n",
       "    .dataframe tbody tr th {\n",
       "        vertical-align: top;\n",
       "    }\n",
       "\n",
       "    .dataframe thead th {\n",
       "        text-align: right;\n",
       "    }\n",
       "</style>\n",
       "<table border=\"1\" class=\"dataframe\">\n",
       "  <thead>\n",
       "    <tr style=\"text-align: right;\">\n",
       "      <th></th>\n",
       "      <th>quote</th>\n",
       "      <th>author</th>\n",
       "      <th>title</th>\n",
       "      <th>popularity_index</th>\n",
       "      <th>quote_lemmatized</th>\n",
       "      <th>author_lemmatized</th>\n",
       "      <th>title_lemmatized</th>\n",
       "    </tr>\n",
       "  </thead>\n",
       "  <tbody>\n",
       "    <tr>\n",
       "      <th>0</th>\n",
       "      <td>“I took a deep breath and listened to the old ...</td>\n",
       "      <td>Sylvia Plath</td>\n",
       "      <td>The Bell Jar</td>\n",
       "      <td>100.000000</td>\n",
       "      <td>take deep breath listen old brag heart</td>\n",
       "      <td>sylvia plath</td>\n",
       "      <td>bell jar</td>\n",
       "    </tr>\n",
       "    <tr>\n",
       "      <th>8425</th>\n",
       "      <td>Let the moment be memorable.</td>\n",
       "      <td>Lailah Gifty Akita</td>\n",
       "      <td></td>\n",
       "      <td>44.053126</td>\n",
       "      <td>let moment memorable</td>\n",
       "      <td>lailah gifty akita</td>\n",
       "      <td></td>\n",
       "    </tr>\n",
       "    <tr>\n",
       "      <th>16850</th>\n",
       "      <td>Christ wants to give you hope for the future. ...</td>\n",
       "      <td>Billy Graham</td>\n",
       "      <td>Billy Graham in Quotes</td>\n",
       "      <td>33.840238</td>\n",
       "      <td>christ want give hope future want learn mean w...</td>\n",
       "      <td>billy graham</td>\n",
       "      <td>billy graham quote</td>\n",
       "    </tr>\n",
       "    <tr>\n",
       "      <th>25275</th>\n",
       "      <td>“When her body first hit the net, all I regist...</td>\n",
       "      <td>Veronica Roth</td>\n",
       "      <td>Allegiant</td>\n",
       "      <td>24.580000</td>\n",
       "      <td>body first hit net register gray blur pull acr...</td>\n",
       "      <td>veronica roth</td>\n",
       "      <td>allegiant</td>\n",
       "    </tr>\n",
       "    <tr>\n",
       "      <th>33700</th>\n",
       "      <td>Cemeteries are full of unfulfilled dreams... c...</td>\n",
       "      <td>Steve Maraboli</td>\n",
       "      <td>Unapologetically You: Reflections on Life and ...</td>\n",
       "      <td>13.993505</td>\n",
       "      <td>cemetery full unfulfilled dream countless echo...</td>\n",
       "      <td>steve maraboli</td>\n",
       "      <td>unapologetically reflections life human experi...</td>\n",
       "    </tr>\n",
       "    <tr>\n",
       "      <th>42125</th>\n",
       "      <td>“I was glad I wasn't in love, that I wasn't ha...</td>\n",
       "      <td>Charles Bukowski</td>\n",
       "      <td>Women</td>\n",
       "      <td>10.300000</td>\n",
       "      <td>glad love happy world like odds everything peo...</td>\n",
       "      <td>charles bukowski</td>\n",
       "      <td>woman</td>\n",
       "    </tr>\n",
       "    <tr>\n",
       "      <th>50550</th>\n",
       "      <td>Endeavor to live a simple life, but filled wit...</td>\n",
       "      <td>Auliq-Ice</td>\n",
       "      <td></td>\n",
       "      <td>8.707614</td>\n",
       "      <td>endeavor live simple life fill complex love</td>\n",
       "      <td>auliq ice</td>\n",
       "      <td></td>\n",
       "    </tr>\n",
       "    <tr>\n",
       "      <th>58975</th>\n",
       "      <td>​You can't Believe in Yourself, till People Be...</td>\n",
       "      <td>Vineet Raj Kapoor</td>\n",
       "      <td></td>\n",
       "      <td>7.570749</td>\n",
       "      <td>believe till people believe</td>\n",
       "      <td>vineet raj kapoor</td>\n",
       "      <td></td>\n",
       "    </tr>\n",
       "    <tr>\n",
       "      <th>67400</th>\n",
       "      <td>Do you not see how necessary a world of pains ...</td>\n",
       "      <td>John Keats</td>\n",
       "      <td>Letters of John Keats</td>\n",
       "      <td>6.595342</td>\n",
       "      <td>see necessary world pain troubles school intel...</td>\n",
       "      <td>john keats</td>\n",
       "      <td>letter john keats</td>\n",
       "    </tr>\n",
       "    <tr>\n",
       "      <th>75825</th>\n",
       "      <td>Do you wonder why we wander?” Cal had asked.It...</td>\n",
       "      <td>David Levithan</td>\n",
       "      <td>Are We There Yet?</td>\n",
       "      <td>5.916860</td>\n",
       "      <td>wonder wander cal ask night first snow could h...</td>\n",
       "      <td>david levithan</td>\n",
       "      <td>yet</td>\n",
       "    </tr>\n",
       "    <tr>\n",
       "      <th>84250</th>\n",
       "      <td>It doesn't need to be happy so to be interesti...</td>\n",
       "      <td>Deyth Banger</td>\n",
       "      <td></td>\n",
       "      <td>5.438517</td>\n",
       "      <td>need happy interesting outside sad story also ...</td>\n",
       "      <td>deyth banger</td>\n",
       "      <td></td>\n",
       "    </tr>\n",
       "    <tr>\n",
       "      <th>92675</th>\n",
       "      <td>If you try to win, you bind (create) enmity, a...</td>\n",
       "      <td>Dada Bhagwan</td>\n",
       "      <td></td>\n",
       "      <td>5.099468</td>\n",
       "      <td>try win bind create enmity acknowledge defeat ...</td>\n",
       "      <td>dada bhagwan</td>\n",
       "      <td></td>\n",
       "    </tr>\n",
       "    <tr>\n",
       "      <th>101100</th>\n",
       "      <td>...the act of kindness is an unselfish act, it...</td>\n",
       "      <td>Travis Culliton</td>\n",
       "      <td>Why I love My Prozac</td>\n",
       "      <td>4.836514</td>\n",
       "      <td>act kindness unselfish act medicine soul</td>\n",
       "      <td>travis culliton</td>\n",
       "      <td>love prozac</td>\n",
       "    </tr>\n",
       "    <tr>\n",
       "      <th>109525</th>\n",
       "      <td>Being fired is part of the risk when anyone pl...</td>\n",
       "      <td>George M.   Gilbert</td>\n",
       "      <td>Team Of One: We Believe</td>\n",
       "      <td>4.589884</td>\n",
       "      <td>fire part risk anyone plan take responsibility...</td>\n",
       "      <td>george gilbert</td>\n",
       "      <td>team one believe</td>\n",
       "    </tr>\n",
       "    <tr>\n",
       "      <th>117950</th>\n",
       "      <td>It is warm, I am alive, I am calm and sad, I h...</td>\n",
       "      <td>George Sand</td>\n",
       "      <td></td>\n",
       "      <td>4.362867</td>\n",
       "      <td>warm alive calm sad hardly know existence even...</td>\n",
       "      <td>george sand</td>\n",
       "      <td></td>\n",
       "    </tr>\n",
       "    <tr>\n",
       "      <th>126375</th>\n",
       "      <td>I begin to learn there are certain things I sh...</td>\n",
       "      <td>Kerry Cohen</td>\n",
       "      <td>Loose Girl: A Memoir of Promiscuity</td>\n",
       "      <td>4.160002</td>\n",
       "      <td>begin learn certain thing tell like meet boy d...</td>\n",
       "      <td>kerry cohen</td>\n",
       "      <td>loose girl memoir promiscuity</td>\n",
       "    </tr>\n",
       "    <tr>\n",
       "      <th>134800</th>\n",
       "      <td>I don't talk with everybody because i am not e...</td>\n",
       "      <td>Michael Bassey Johnson</td>\n",
       "      <td></td>\n",
       "      <td>3.970526</td>\n",
       "      <td>talk everybody everybody single</td>\n",
       "      <td>michael bassey johnson</td>\n",
       "      <td></td>\n",
       "    </tr>\n",
       "    <tr>\n",
       "      <th>143225</th>\n",
       "      <td>There is more treasure in people than in all t...</td>\n",
       "      <td>Wesam Fawzi</td>\n",
       "      <td></td>\n",
       "      <td>3.764894</td>\n",
       "      <td>treasure people gold mineral mine world</td>\n",
       "      <td>wesam fawzi</td>\n",
       "      <td></td>\n",
       "    </tr>\n",
       "    <tr>\n",
       "      <th>151650</th>\n",
       "      <td>[T]he race is long - to finish first, first yo...</td>\n",
       "      <td>Garth Stein</td>\n",
       "      <td>The Art of Racing in the Rain</td>\n",
       "      <td>3.439123</td>\n",
       "      <td>race long finish first first must finish</td>\n",
       "      <td>garth stein</td>\n",
       "      <td>art race rain</td>\n",
       "    </tr>\n",
       "    <tr>\n",
       "      <th>160075</th>\n",
       "      <td>And to all the young people in particular, I h...</td>\n",
       "      <td>Hillary Rodham Clinton</td>\n",
       "      <td></td>\n",
       "      <td>3.098801</td>\n",
       "      <td>young people particular hope hear tim say spen...</td>\n",
       "      <td>hillary rodham clinton</td>\n",
       "      <td></td>\n",
       "    </tr>\n",
       "    <tr>\n",
       "      <th>168500</th>\n",
       "      <td>It’s a sort of furtiveness … Like we were a ge...</td>\n",
       "      <td>Jack Kerouac</td>\n",
       "      <td></td>\n",
       "      <td>2.812471</td>\n",
       "      <td>sort furtiveness like generation furtive know ...</td>\n",
       "      <td>jack kerouac</td>\n",
       "      <td></td>\n",
       "    </tr>\n",
       "    <tr>\n",
       "      <th>176925</th>\n",
       "      <td>“There isn't any me. I'm you. Don't make up a ...</td>\n",
       "      <td>Ernest Hemingway</td>\n",
       "      <td>A Farewell to Arms</td>\n",
       "      <td>2.580000</td>\n",
       "      <td>make separate</td>\n",
       "      <td>ernest hemingway</td>\n",
       "      <td>farewell arm</td>\n",
       "    </tr>\n",
       "    <tr>\n",
       "      <th>185350</th>\n",
       "      <td>Men who reject the responsibility of thought a...</td>\n",
       "      <td>Ayn Rand</td>\n",
       "      <td>The Virtue of Selfishness: A New Concept of Eg...</td>\n",
       "      <td>2.357667</td>\n",
       "      <td>men reject responsibility think reason exist p...</td>\n",
       "      <td>ayn rand</td>\n",
       "      <td>virtue selfishness new concept egoism</td>\n",
       "    </tr>\n",
       "    <tr>\n",
       "      <th>193775</th>\n",
       "      <td>I think it's something like Mr. Peter Sloane a...</td>\n",
       "      <td>L.M. Montgomery</td>\n",
       "      <td>Anne of Avonlea</td>\n",
       "      <td>2.168300</td>\n",
       "      <td>think something like mr peter sloane octogenar...</td>\n",
       "      <td>l montgomery</td>\n",
       "      <td>anne avonlea</td>\n",
       "    </tr>\n",
       "    <tr>\n",
       "      <th>202200</th>\n",
       "      <td>There is nothing which can better deserve your...</td>\n",
       "      <td>George Washington</td>\n",
       "      <td></td>\n",
       "      <td>2.006439</td>\n",
       "      <td>nothing well deserve patronage promotion scien...</td>\n",
       "      <td>george washington</td>\n",
       "      <td></td>\n",
       "    </tr>\n",
       "  </tbody>\n",
       "</table>\n",
       "</div>"
      ],
      "text/plain": [
       "                                                    quote  \\\n",
       "0       “I took a deep breath and listened to the old ...   \n",
       "8425                         Let the moment be memorable.   \n",
       "16850   Christ wants to give you hope for the future. ...   \n",
       "25275   “When her body first hit the net, all I regist...   \n",
       "33700   Cemeteries are full of unfulfilled dreams... c...   \n",
       "42125   “I was glad I wasn't in love, that I wasn't ha...   \n",
       "50550   Endeavor to live a simple life, but filled wit...   \n",
       "58975   ​You can't Believe in Yourself, till People Be...   \n",
       "67400   Do you not see how necessary a world of pains ...   \n",
       "75825   Do you wonder why we wander?” Cal had asked.It...   \n",
       "84250   It doesn't need to be happy so to be interesti...   \n",
       "92675   If you try to win, you bind (create) enmity, a...   \n",
       "101100  ...the act of kindness is an unselfish act, it...   \n",
       "109525  Being fired is part of the risk when anyone pl...   \n",
       "117950  It is warm, I am alive, I am calm and sad, I h...   \n",
       "126375  I begin to learn there are certain things I sh...   \n",
       "134800  I don't talk with everybody because i am not e...   \n",
       "143225  There is more treasure in people than in all t...   \n",
       "151650  [T]he race is long - to finish first, first yo...   \n",
       "160075  And to all the young people in particular, I h...   \n",
       "168500  It’s a sort of furtiveness … Like we were a ge...   \n",
       "176925  “There isn't any me. I'm you. Don't make up a ...   \n",
       "185350  Men who reject the responsibility of thought a...   \n",
       "193775  I think it's something like Mr. Peter Sloane a...   \n",
       "202200  There is nothing which can better deserve your...   \n",
       "\n",
       "                        author  \\\n",
       "0                 Sylvia Plath   \n",
       "8425        Lailah Gifty Akita   \n",
       "16850             Billy Graham   \n",
       "25275            Veronica Roth   \n",
       "33700           Steve Maraboli   \n",
       "42125         Charles Bukowski   \n",
       "50550                Auliq-Ice   \n",
       "58975        Vineet Raj Kapoor   \n",
       "67400               John Keats   \n",
       "75825           David Levithan   \n",
       "84250             Deyth Banger   \n",
       "92675             Dada Bhagwan   \n",
       "101100         Travis Culliton   \n",
       "109525     George M.   Gilbert   \n",
       "117950             George Sand   \n",
       "126375             Kerry Cohen   \n",
       "134800  Michael Bassey Johnson   \n",
       "143225             Wesam Fawzi   \n",
       "151650             Garth Stein   \n",
       "160075  Hillary Rodham Clinton   \n",
       "168500            Jack Kerouac   \n",
       "176925        Ernest Hemingway   \n",
       "185350                Ayn Rand   \n",
       "193775         L.M. Montgomery   \n",
       "202200       George Washington   \n",
       "\n",
       "                                                    title  popularity_index  \\\n",
       "0                                            The Bell Jar        100.000000   \n",
       "8425                                                              44.053126   \n",
       "16850                              Billy Graham in Quotes         33.840238   \n",
       "25275                                           Allegiant         24.580000   \n",
       "33700   Unapologetically You: Reflections on Life and ...         13.993505   \n",
       "42125                                               Women         10.300000   \n",
       "50550                                                              8.707614   \n",
       "58975                                                              7.570749   \n",
       "67400                               Letters of John Keats          6.595342   \n",
       "75825                                   Are We There Yet?          5.916860   \n",
       "84250                                                              5.438517   \n",
       "92675                                                              5.099468   \n",
       "101100                               Why I love My Prozac          4.836514   \n",
       "109525                            Team Of One: We Believe          4.589884   \n",
       "117950                                                             4.362867   \n",
       "126375                Loose Girl: A Memoir of Promiscuity          4.160002   \n",
       "134800                                                             3.970526   \n",
       "143225                                                             3.764894   \n",
       "151650                      The Art of Racing in the Rain          3.439123   \n",
       "160075                                                             3.098801   \n",
       "168500                                                             2.812471   \n",
       "176925                                 A Farewell to Arms          2.580000   \n",
       "185350  The Virtue of Selfishness: A New Concept of Eg...          2.357667   \n",
       "193775                                    Anne of Avonlea          2.168300   \n",
       "202200                                                             2.006439   \n",
       "\n",
       "                                         quote_lemmatized  \\\n",
       "0                  take deep breath listen old brag heart   \n",
       "8425                                 let moment memorable   \n",
       "16850   christ want give hope future want learn mean w...   \n",
       "25275   body first hit net register gray blur pull acr...   \n",
       "33700   cemetery full unfulfilled dream countless echo...   \n",
       "42125   glad love happy world like odds everything peo...   \n",
       "50550         endeavor live simple life fill complex love   \n",
       "58975                         believe till people believe   \n",
       "67400   see necessary world pain troubles school intel...   \n",
       "75825   wonder wander cal ask night first snow could h...   \n",
       "84250   need happy interesting outside sad story also ...   \n",
       "92675   try win bind create enmity acknowledge defeat ...   \n",
       "101100           act kindness unselfish act medicine soul   \n",
       "109525  fire part risk anyone plan take responsibility...   \n",
       "117950  warm alive calm sad hardly know existence even...   \n",
       "126375  begin learn certain thing tell like meet boy d...   \n",
       "134800                    talk everybody everybody single   \n",
       "143225            treasure people gold mineral mine world   \n",
       "151650           race long finish first first must finish   \n",
       "160075  young people particular hope hear tim say spen...   \n",
       "168500  sort furtiveness like generation furtive know ...   \n",
       "176925                                      make separate   \n",
       "185350  men reject responsibility think reason exist p...   \n",
       "193775  think something like mr peter sloane octogenar...   \n",
       "202200  nothing well deserve patronage promotion scien...   \n",
       "\n",
       "             author_lemmatized  \\\n",
       "0                 sylvia plath   \n",
       "8425        lailah gifty akita   \n",
       "16850             billy graham   \n",
       "25275            veronica roth   \n",
       "33700           steve maraboli   \n",
       "42125         charles bukowski   \n",
       "50550                auliq ice   \n",
       "58975        vineet raj kapoor   \n",
       "67400               john keats   \n",
       "75825           david levithan   \n",
       "84250             deyth banger   \n",
       "92675             dada bhagwan   \n",
       "101100         travis culliton   \n",
       "109525          george gilbert   \n",
       "117950             george sand   \n",
       "126375             kerry cohen   \n",
       "134800  michael bassey johnson   \n",
       "143225             wesam fawzi   \n",
       "151650             garth stein   \n",
       "160075  hillary rodham clinton   \n",
       "168500            jack kerouac   \n",
       "176925        ernest hemingway   \n",
       "185350                ayn rand   \n",
       "193775            l montgomery   \n",
       "202200       george washington   \n",
       "\n",
       "                                         title_lemmatized  \n",
       "0                                                bell jar  \n",
       "8425                                                       \n",
       "16850                                  billy graham quote  \n",
       "25275                                           allegiant  \n",
       "33700   unapologetically reflections life human experi...  \n",
       "42125                                               woman  \n",
       "50550                                                      \n",
       "58975                                                      \n",
       "67400                                   letter john keats  \n",
       "75825                                                 yet  \n",
       "84250                                                      \n",
       "92675                                                      \n",
       "101100                                        love prozac  \n",
       "109525                                   team one believe  \n",
       "117950                                                     \n",
       "126375                      loose girl memoir promiscuity  \n",
       "134800                                                     \n",
       "143225                                                     \n",
       "151650                                      art race rain  \n",
       "160075                                                     \n",
       "168500                                                     \n",
       "176925                                       farewell arm  \n",
       "185350              virtue selfishness new concept egoism  \n",
       "193775                                       anne avonlea  \n",
       "202200                                                     "
      ]
     },
     "execution_count": 613,
     "metadata": {},
     "output_type": "execute_result"
    }
   ],
   "source": [
    "quotes.iloc[[i for i in range(0, int(DOCS_NUMBER / 4), int(DOCS_NUMBER / 100))]]"
   ]
  },
  {
   "cell_type": "code",
   "execution_count": 717,
   "metadata": {},
   "outputs": [],
   "source": [
    "queries = [ ('brag of my heart', 0),\n",
    "            ('Let the moment be memorable.', 8425),\n",
    "            ('Christ and eternal life begins', 16850),\n",
    "            ('first jump', 25275),\n",
    "            ('cemeteries echoes', 33700),\n",
    "            ('people in love are dangerous', 42125),\n",
    "            ('simple life but complex love', 50550),\n",
    "            ('believe in yourself till people believe in you', 58975),\n",
    "            ('a world of pains and troubles is to school an intelligence', 67400),\n",
    "            ('Do you wonder why we wander?', 75825),\n",
    "            ('know what is about overall', 84250),\n",
    "            ('enmity', 92675),\n",
    "            ('love Prozac', 101100),\n",
    "            ('team of one', 109525),\n",
    "            ('fall into melancholies', 117950),\n",
    "            ('A Memoir of Promiscuity', 126375),\n",
    "            ('I am not everybody, I am single', 134800),\n",
    "            ('more treasure in people than in mines', 143225),\n",
    "            ('The Art of Racing in the Rain', 151650),\n",
    "            ('successes and setbacks', 160075),\n",
    "            ('beat generation', 168500),\n",
    "            ('A Farewell to Arms', 176925),\n",
    "            ('The Virtue of Selfishness', 185350),\n",
    "            ('Sloane about sickly creatures', 193775),\n",
    "            ('promotion of knowledge', 202200)\n",
    "            ]"
   ]
  },
  {
   "cell_type": "code",
   "execution_count": 733,
   "metadata": {},
   "outputs": [
    {
     "data": {
      "text/plain": [
       "0.2419157402179967"
      ]
     },
     "execution_count": 733,
     "metadata": {},
     "output_type": "execute_result"
    }
   ],
   "source": [
    "mrr(queries)"
   ]
  },
  {
   "cell_type": "markdown",
   "metadata": {},
   "source": [
    "Now let's modify **score** by adding **tf_idf** of title and slightly change the formula.\n",
    "Here I picked up the best weights for **tf_idf_quote** and **tf_idf_title**."
   ]
  },
  {
   "cell_type": "code",
   "execution_count": 844,
   "metadata": {},
   "outputs": [],
   "source": [
    "def score(query, document):\n",
    "    doc_quote_words = document.quote_lemmatized.split()\n",
    "    doc_title_words = document.title_lemmatized.split()\n",
    "\n",
    "    def score_by_term(term):\n",
    "        tf_quote = doc_quote_words.count(term)\n",
    "        tf_title = doc_title_words.count(term)\n",
    "\n",
    "        df_quote = len(quotes_inv_index[term])\n",
    "        df_title = len(titles_inv_index[term])\n",
    "\n",
    "        tf_idf_quote = tf_quote * np.log(DOCS_NUMBER / (1 + df_quote))\n",
    "        tf_idf_title = tf_title * np.log(DOCS_NUMBER / (1 + df_title))\n",
    "        \n",
    "        return tf_idf_quote * 0.3 + tf_idf_title * 0.7\n",
    "\n",
    "    query_lemmatized = lemmatize_sentence(query)\n",
    "\n",
    "    sum = 0\n",
    "    \n",
    "    for term in query_lemmatized.split():\n",
    "        sum += score_by_term(term)\n",
    "\n",
    "    return sum"
   ]
  },
  {
   "cell_type": "code",
   "execution_count": 843,
   "metadata": {},
   "outputs": [
    {
     "data": {
      "text/plain": [
       "0.27007086167800454"
      ]
     },
     "execution_count": 843,
     "metadata": {},
     "output_type": "execute_result"
    }
   ],
   "source": [
    "mrr(queries)"
   ]
  },
  {
   "cell_type": "markdown",
   "metadata": {},
   "source": [
    "We have slightly improved the result.\n",
    "\n",
    "Now let's modify our formula again. We can add smoothing and start taking into account the length of documents. This idea was taken from [**BM25**](https://en.wikipedia.org/wiki/Okapi_BM25 \"see more on wiki\") function.\n",
    "\n",
    "I picked up best values for parameters **k** and **b**, as well as for weights of **quote_score** and **title_score**."
   ]
  },
  {
   "cell_type": "code",
   "execution_count": 903,
   "metadata": {},
   "outputs": [],
   "source": [
    "avg_words_quote = quotes['quote_lemmatized'].apply(lambda x: len(x.split())).mean()\n",
    "avg_words_title = quotes['title_lemmatized'].apply(lambda x: len(x.split())).mean()"
   ]
  },
  {
   "cell_type": "code",
   "execution_count": 932,
   "metadata": {},
   "outputs": [],
   "source": [
    "def score(query, document):\n",
    "    doc_quote_words = document.quote_lemmatized.split()\n",
    "    doc_title_words = document.title_lemmatized.split()\n",
    "\n",
    "    k = 5\n",
    "    b = 0.7\n",
    "\n",
    "    l1 = len(doc_quote_words)\n",
    "    l2 = len(doc_title_words)\n",
    "\n",
    "    def score_by_term(term):\n",
    "        tf_quote = doc_quote_words.count(term)\n",
    "        tf_title = doc_title_words.count(term)\n",
    "\n",
    "        df_quote = len(quotes_inv_index[term])\n",
    "        df_title = len(titles_inv_index[term])\n",
    "\n",
    "        quote_score = ((tf_quote*(k+1)) / (k*(1 - b + b * l1 / avg_words_quote) + tf_quote)) \\\n",
    "                        * np.log(DOCS_NUMBER / (1 + df_quote))\n",
    "                        \n",
    "        title_score = ((tf_title*(k+1)) / (k*(1 - b + b * l2 / avg_words_title) + tf_title)) \\\n",
    "                        * np.log(DOCS_NUMBER / (1 + df_title))\n",
    "        \n",
    "        return quote_score * 0.4 + title_score * 0.6\n",
    "\n",
    "    query_lemmatized = lemmatize_sentence(query)\n",
    "\n",
    "    sum = 0\n",
    "    \n",
    "    for term in query_lemmatized.split():\n",
    "        sum += score_by_term(term)\n",
    "\n",
    "    return sum"
   ]
  },
  {
   "cell_type": "code",
   "execution_count": 933,
   "metadata": {},
   "outputs": [
    {
     "data": {
      "text/plain": [
       "0.6198160841732271"
      ]
     },
     "execution_count": 933,
     "metadata": {},
     "output_type": "execute_result"
    }
   ],
   "source": [
    "mrr(queries)"
   ]
  },
  {
   "cell_type": "markdown",
   "metadata": {},
   "source": [
    "Wow! Not a bad improvement. We will use this implementation of function **score** in our pipeline."
   ]
  }
 ],
 "metadata": {
  "interpreter": {
   "hash": "948d73eb6dfda2e804d788ca8e9f193cc8a7762f6fd3fe59d9c3fe882d54f9f4"
  },
  "kernelspec": {
   "display_name": "Python 3.8.12 64-bit ('base': conda)",
   "language": "python",
   "name": "python3"
  },
  "language_info": {
   "codemirror_mode": {
    "name": "ipython",
    "version": 3
   },
   "file_extension": ".py",
   "mimetype": "text/x-python",
   "name": "python",
   "nbconvert_exporter": "python",
   "pygments_lexer": "ipython3",
   "version": "3.8.12"
  },
  "orig_nbformat": 4
 },
 "nbformat": 4,
 "nbformat_minor": 2
}
